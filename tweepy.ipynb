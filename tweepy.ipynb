{
 "cells": [
  {
   "cell_type": "code",
   "execution_count": 13,
   "metadata": {},
   "outputs": [],
   "source": [
    "from twitterscraper import query_tweets\n",
    "from twitterscraper import query\n",
    "import datetime as dt\n",
    "import pandas as pd\n",
    "from twitterscraper import query_tweets_from_user\n",
    "import json\n",
    "import tqdm\n"
   ]
  },
  {
   "cell_type": "code",
   "execution_count": 17,
   "metadata": {},
   "outputs": [],
   "source": [
    "query = 'Travis Scott AND Fortnite'\n",
    "start_date=dt.date(2020,5,29)\n",
    "end_date=dt.date(2020,5,30)\n",
    "limit=10\n",
    "lang='english'"
   ]
  },
  {
   "cell_type": "code",
   "execution_count": 19,
   "metadata": {},
   "outputs": [
    {
     "name": "stderr",
     "output_type": "stream",
     "text": [
      "INFO: queries: ['Travis Scott AND Fortnite since:2020-05-29 until:2020-05-30']\n",
      "INFO: Querying Travis Scott AND Fortnite since:2020-05-29 until:2020-05-30\n",
      "INFO: Scraping tweets from https://twitter.com/search?f=tweets&vertical=default&q=Travis%20Scott%20AND%20Fortnite%20since%3A2020-05-29%20until%3A2020-05-30&l=english\n",
      "INFO: Using proxy 163.53.198.54:42787\n",
      "INFO: Got 19 tweets for Travis%20Scott%20AND%20Fortnite%20since%3A2020-05-29%20until%3A2020-05-30.\n",
      "INFO: Got 19 tweets (19 new).\n"
     ]
    },
    {
     "name": "stdout",
     "output_type": "stream",
     "text": [
      "b'Never knew fortnite made marvel and borderlands and StarWars and they turned travis Scott into a real person'\n",
      "b'Thank you ! Fortnite guy, my kids are so happy you blew up after fortnite'\n",
      "b'Yooo it\\xe2\\x80\\x99s the guy from Fortnite'\n",
      "b'Travis Scott - goosebumps'\n",
      "b'Bruh @trvisXX. Rlly takin over fortnite like the lunchrunner in a race but i like it its cooooooool Fortnite if you see this PLEASE PUT HIM BACK IN AND KEEP HIM IN FOWEVER pic.twitter.com/OCxwsJEyYU'\n",
      "b'Just like you did in the fortnite event. Thank you'\n",
      "b\"Hey everyone look it's fortnite guy\"\n",
      "b'The scotts - Travis Scott'\n",
      "b'Travis Scott-Skeletons'\n",
      "b'Nice Fortnite Guy'\n",
      "b'Yeah I\\xe2\\x80\\x99m mad bro you just got pressed from a comment saying \\xe2\\x80\\x9cfortnite guy\\xe2\\x80\\x9d'\n",
      "b'I hate when a  @trvisXX travis scott comes on and kids are like thats the guy from fortnite smh'\n",
      "b'ayooo they made the dude from fortnite into a real thing !!!!!'\n",
      "b'When is the fortnite merch shopping'\n",
      "b'OMG the fortnite skin have twitter ?? LOL'\n",
      "b'yall want travis scott to say sumn? the guy from fortnite???'\n",
      "b'pic.twitter.com/5CUK7v9vmV'\n",
      "b'Fortnite guy!'\n",
      "b'God watch over us. Keep us strong and lifted.'\n"
     ]
    }
   ],
   "source": [
    "with open('tweets/output.csv', 'w+') as file:\n",
    "    for tweet in query_tweets(query=query,begindate=start_date,enddate=end_date,limit=limit,lang=lang):\n",
    "#         file.write(str(tweet.text.encode('utf-8'))+'\\n')\n",
    "        print(str(tweet.text.encode('utf-8')))\n",
    "# file.close()"
   ]
  },
  {
   "cell_type": "code",
   "execution_count": null,
   "metadata": {},
   "outputs": [],
   "source": []
  }
 ],
 "metadata": {
  "kernelspec": {
   "display_name": "Python [conda env:sentiment-env]",
   "language": "python",
   "name": "conda-env-sentiment-env-py"
  },
  "language_info": {
   "codemirror_mode": {
    "name": "ipython",
    "version": 3
   },
   "file_extension": ".py",
   "mimetype": "text/x-python",
   "name": "python",
   "nbconvert_exporter": "python",
   "pygments_lexer": "ipython3",
   "version": "3.8.3"
  }
 },
 "nbformat": 4,
 "nbformat_minor": 4
}
